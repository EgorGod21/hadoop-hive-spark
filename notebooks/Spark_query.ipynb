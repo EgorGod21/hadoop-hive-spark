{
 "cells": [
  {
   "cell_type": "code",
   "execution_count": 1,
   "id": "59cdc984",
   "metadata": {},
   "outputs": [
    {
     "name": "stdout",
     "output_type": "stream",
     "text": [
      "Welcome to\r\n",
      "      ____              __\r\n",
      "     / __/__  ___ _____/ /__\r\n",
      "    _\\ \\/ _ \\/ _ `/ __/  '_/\r\n",
      "   /___/ .__/\\_,_/_/ /_/\\_\\   version 2.4.5\r\n",
      "      /_/\r\n",
      "                        \r\n",
      "Using Scala version 2.11.12, OpenJDK 64-Bit Server VM, 1.8.0_252\r\n",
      "Branch HEAD\r\n",
      "Compiled by user centos on 2020-02-02T20:01:52Z\r\n",
      "Revision cee4ecbb16917fa85f02c635925e2687400aa56b\r\n",
      "Url https://gitbox.apache.org/repos/asf/spark.git\r\n",
      "Type --help for more information.\r\n"
     ]
    }
   ],
   "source": [
    "!spark-submit --version"
   ]
  },
  {
   "cell_type": "code",
   "execution_count": 10,
   "id": "3c6264f6",
   "metadata": {},
   "outputs": [
    {
     "name": "stdout",
     "output_type": "stream",
     "text": [
      "{\"overall\": 1.0, \"verified\": false, \"reviewTime\": \"12 11, 2015\", \"reviewerID\": \"A27BTSGLXK2C5K\", \"asin\": \"B017O9P72A\", \"reviewerName\": \"Jacob M. Wessler\", \"reviewText\": \"Alexa is not able to control my lights. If I ask her to tell me what LIFX can do, she will give me an example with one of my group names. If I use that exact same group name in a new request, she'll await that she doesn't recognize the name. This skill is VERY buggy and has not yet worked for me. I even rest Alexa, uninstalled LIFX, and set everything up again.\", \"summary\": \"VERY Buggy, doesn't work.\", \"unixReviewTime\": 1449792000}\r\n",
      "zcat: write error: Broken pipe\r\n",
      "zcat: write: Broken pipe\r\n"
     ]
    }
   ],
   "source": [
    "!zcat /data/All_Amazon_Review.json.gz | head -n 1"
   ]
  },
  {
   "cell_type": "code",
   "execution_count": 11,
   "id": "1a5f2fc4",
   "metadata": {},
   "outputs": [
    {
     "name": "stdout",
     "output_type": "stream",
     "text": [
      "SLF4J: Class path contains multiple SLF4J bindings.\n",
      "SLF4J: Found binding in [jar:file:/usr/hadoop/share/hadoop/common/lib/slf4j-log4j12-1.7.25.jar!/org/slf4j/impl/StaticLoggerBinder.class]\n",
      "SLF4J: Found binding in [jar:file:/usr/hive/lib/log4j-slf4j-impl-2.10.0.jar!/org/slf4j/impl/StaticLoggerBinder.class]\n",
      "SLF4J: See http://www.slf4j.org/codes.html#multiple_bindings for an explanation.\n",
      "SLF4J: Actual binding is of type [org.slf4j.impl.Log4jLoggerFactory]\n",
      "2025-04-25 23:23:46,390 WARN util.NativeCodeLoader: Unable to load native-hadoop library for your platform... using builtin-java classes where applicable\n"
     ]
    }
   ],
   "source": [
    "!hdfs dfs -D dfs.replication=1 -put /data/All_Amazon_Review.json.gz /"
   ]
  },
  {
   "cell_type": "code",
   "execution_count": 15,
   "id": "965107f0",
   "metadata": {},
   "outputs": [
    {
     "name": "stdout",
     "output_type": "stream",
     "text": [
      "SLF4J: Class path contains multiple SLF4J bindings.\n",
      "SLF4J: Found binding in [jar:file:/usr/hadoop/share/hadoop/common/lib/slf4j-log4j12-1.7.25.jar!/org/slf4j/impl/StaticLoggerBinder.class]\n",
      "SLF4J: Found binding in [jar:file:/usr/hive/lib/log4j-slf4j-impl-2.10.0.jar!/org/slf4j/impl/StaticLoggerBinder.class]\n",
      "SLF4J: See http://www.slf4j.org/codes.html#multiple_bindings for an explanation.\n",
      "SLF4J: Actual binding is of type [org.slf4j.impl.Log4jLoggerFactory]\n",
      "2025-04-25 23:55:22,748 WARN util.NativeCodeLoader: Unable to load native-hadoop library for your platform... using builtin-java classes where applicable\n",
      "-rw-r--r--   1 root supergroup 36001023911 2025-04-25 23:53 /All_Amazon_Review.json.gz\n"
     ]
    }
   ],
   "source": [
    "!hdfs dfs -ls /All_Amazon_Review.json.gz\n"
   ]
  },
  {
   "cell_type": "code",
   "execution_count": 100,
   "id": "4057e357",
   "metadata": {},
   "outputs": [],
   "source": [
    "import time\n",
    "\n",
    "import pyspark\n",
    "from pyspark.sql import SparkSession\n",
    "from pyspark.sql import functions as F\n",
    "from pyspark.sql.functions import col, from_unixtime, year, row_number\n",
    "from pyspark.sql.window import Window\n",
    "\n",
    "spark = SparkSession.builder \\\n",
    "    .master('spark://master:7077') \\\n",
    "    .appName('PySpark') \\\n",
    "    .getOrCreate()"
   ]
  },
  {
   "cell_type": "code",
   "execution_count": 31,
   "id": "8d75529f",
   "metadata": {},
   "outputs": [
    {
     "name": "stderr",
     "output_type": "stream",
     "text": [
      "[Stage 1:>    (0 + 1) / 1][Stage 2:>    (0 + 1) / 1][Stage 3:>    (0 + 1) / 1]  "
     ]
    }
   ],
   "source": [
    "df = spark.read.json(\"hdfs://master:9000/All_Amazon_Review.json.gz\")\n",
    "df.write.mode(\"overwrite\").orc(\"hdfs://master:9000/amazon_reviews_orc\")"
   ]
  },
  {
   "cell_type": "code",
   "execution_count": 35,
   "id": "5d15577d",
   "metadata": {},
   "outputs": [],
   "source": [
    "df_orc = spark.read.format(\"orc\").load(\"/amazon_reviews_orc\")"
   ]
  },
  {
   "cell_type": "code",
   "execution_count": 36,
   "id": "849482d4",
   "metadata": {},
   "outputs": [
    {
     "name": "stdout",
     "output_type": "stream",
     "text": [
      "root\n",
      " |-- asin: string (nullable = true)\n",
      " |-- image: array (nullable = true)\n",
      " |    |-- element: string (containsNull = true)\n",
      " |-- overall: double (nullable = true)\n",
      " |-- reviewText: string (nullable = true)\n",
      " |-- reviewTime: string (nullable = true)\n",
      " |-- reviewerID: string (nullable = true)\n",
      " |-- reviewerName: string (nullable = true)\n",
      " |-- style: struct (nullable = true)\n",
      " |    |-- Color Name:: string (nullable = true)\n",
      " |    |-- Color:: string (nullable = true)\n",
      " |    |-- Flavor:: string (nullable = true)\n",
      " |    |-- Format:: string (nullable = true)\n",
      " |    |-- Package Quantity:: string (nullable = true)\n",
      " |    |-- Package Type:: string (nullable = true)\n",
      " |    |-- Scent Name:: string (nullable = true)\n",
      " |    |-- Size Name:: string (nullable = true)\n",
      " |    |-- Size:: string (nullable = true)\n",
      " |    |-- Style Name:: string (nullable = true)\n",
      " |    |-- Style:: string (nullable = true)\n",
      " |-- summary: string (nullable = true)\n",
      " |-- unixReviewTime: long (nullable = true)\n",
      " |-- verified: boolean (nullable = true)\n",
      " |-- vote: string (nullable = true)\n",
      "\n"
     ]
    }
   ],
   "source": [
    "df_orc.printSchema()"
   ]
  },
  {
   "cell_type": "code",
   "execution_count": 45,
   "id": "239a16e6",
   "metadata": {},
   "outputs": [],
   "source": [
    "df_orc_select = df_orc.select(\n",
    "    \"reviewerID\", \"verified\", \"reviewerName\", \n",
    "    \"asin\", \"reviewText\", \"summary\",\n",
    "    \"overall\", \"unixReviewTime\",\n",
    ")"
   ]
  },
  {
   "cell_type": "code",
   "execution_count": 49,
   "id": "168ee314",
   "metadata": {},
   "outputs": [
    {
     "name": "stdout",
     "output_type": "stream",
     "text": [
      "-RECORD 0--------------------------------------------------------------------------------------------------------------------------------------------------------------------------------------------------------------------------------------------------------------------------------------------------------------------------------------------------------------------------------------------------------------------------------------------------------------------------------------------------------------------------------------------------------------------------------------------------------------------------------------------------------------------------------------------------------------------------------------------------------------------------------------------------------------------------------------------------------------------------\n",
      " reviewerID     | A27BTSGLXK2C5K                                                                                                                                                                                                                                                                                                                                                                                                                                                                                                                                                                                                                                                                                                                                                                                                                                                   \n",
      " verified       | false                                                                                                                                                                                                                                                                                                                                                                                                                                                                                                                                                                                                                                                                                                                                                                                                                                                            \n",
      " reviewerName   | Jacob M. Wessler                                                                                                                                                                                                                                                                                                                                                                                                                                                                                                                                                                                                                                                                                                                                                                                                                                                 \n",
      " asin           | B017O9P72A                                                                                                                                                                                                                                                                                                                                                                                                                                                                                                                                                                                                                                                                                                                                                                                                                                                       \n",
      " reviewText     | Alexa is not able to control my lights. If I ask her to tell me what LIFX can do, she will give me an example with one of my group names. If I use that exact same group name in a new request, she'll await that she doesn't recognize the name. This skill is VERY buggy and has not yet worked for me. I even rest Alexa, uninstalled LIFX, and set everything up again.                                                                                                                                                                                                                                                                                                                                                                                                                                                                                      \n",
      " summary        | VERY Buggy, doesn't work.                                                                                                                                                                                                                                                                                                                                                                                                                                                                                                                                                                                                                                                                                                                                                                                                                                        \n",
      " overall        | 1.0                                                                                                                                                                                                                                                                                                                                                                                                                                                                                                                                                                                                                                                                                                                                                                                                                                                              \n",
      " unixReviewTime | 1449792000                                                                                                                                                                                                                                                                                                                                                                                                                                                                                                                                                                                                                                                                                                                                                                                                                                                       \n",
      "-RECORD 1--------------------------------------------------------------------------------------------------------------------------------------------------------------------------------------------------------------------------------------------------------------------------------------------------------------------------------------------------------------------------------------------------------------------------------------------------------------------------------------------------------------------------------------------------------------------------------------------------------------------------------------------------------------------------------------------------------------------------------------------------------------------------------------------------------------------------------------------------------------------------\n",
      " reviewerID     | A27ZJ1NCBFP1HZ                                                                                                                                                                                                                                                                                                                                                                                                                                                                                                                                                                                                                                                                                                                                                                                                                                                   \n",
      " verified       | false                                                                                                                                                                                                                                                                                                                                                                                                                                                                                                                                                                                                                                                                                                                                                                                                                                                            \n",
      " reviewerName   | Greg                                                                                                                                                                                                                                                                                                                                                                                                                                                                                                                                                                                                                                                                                                                                                                                                                                                             \n",
      " asin           | B017O9P72A                                                                                                                                                                                                                                                                                                                                                                                                                                                                                                                                                                                                                                                                                                                                                                                                                                                       \n",
      " reviewText     | Alexa works great for me so far, but I'm also only controlling a single bulb at the moment. Turning on/off, changing colors and adjusting brightness are all easy and quick. That being said, I'm expecting complications as I add more bulbs (hope for the best prepare for the worst, right?)\n",
      "\n",
      "I'd speculate that some other users' frustrations might stem from Alexa not recognizing their bulb or room names. After simplifying my bulb name to 'Lamp' and listing it under a Living Room group (within the LIFx app), I've been able to address it by either category pretty consistently.\n",
      "\"Turn on/off living room lights.\"\n",
      "\"Change lamp light to [color]\"\n",
      "\"Dim living room lights to [X]%\"\n",
      "\n",
      "Like any new tech, you can expect growing pains and bugs early on. Be patient. This skill isn't perfect by any means, but I'd say it's off to a decent start \n",
      " summary        | So Far So Good                                                                                                                                                                                                                                                                                                                                                                                                                                                                                                                                                                                                                                                                                                                                                                                                                                                   \n",
      " overall        | 4.0                                                                                                                                                                                                                                                                                                                                                                                                                                                                                                                                                                                                                                                                                                                                                                                                                                                              \n",
      " unixReviewTime | 1449532800                                                                                                                                                                                                                                                                                                                                                                                                                                                                                                                                                                                                                                                                                                                                                                                                                                                       \n",
      "-RECORD 2--------------------------------------------------------------------------------------------------------------------------------------------------------------------------------------------------------------------------------------------------------------------------------------------------------------------------------------------------------------------------------------------------------------------------------------------------------------------------------------------------------------------------------------------------------------------------------------------------------------------------------------------------------------------------------------------------------------------------------------------------------------------------------------------------------------------------------------------------------------------------\n",
      " reviewerID     | ACCQIOZMFN4UK                                                                                                                                                                                                                                                                                                                                                                                                                                                                                                                                                                                                                                                                                                                                                                                                                                                    \n",
      " verified       | false                                                                                                                                                                                                                                                                                                                                                                                                                                                                                                                                                                                                                                                                                                                                                                                                                                                            \n",
      " reviewerName   | Da-Gr8-1                                                                                                                                                                                                                                                                                                                                                                                                                                                                                                                                                                                                                                                                                                                                                                                                                                                         \n",
      " asin           | B017O9P72A                                                                                                                                                                                                                                                                                                                                                                                                                                                                                                                                                                                                                                                                                                                                                                                                                                                       \n",
      " reviewText     | Weak!!\n",
      "\n",
      "Alexa doesn't even recognize the name Lifx.\n",
      "It's a waste of time to even ask her to turn on and off lights                                                                                                                                                                                                                                                                                                                                                                                                                                                                                                                                                                                                                                                                                                                                               \n",
      " summary        | Time waster                                                                                                                                                                                                                                                                                                                                                                                                                                                                                                                                                                                                                                                                                                                                                                                                                                                      \n",
      " overall        | 1.0                                                                                                                                                                                                                                                                                                                                                                                                                                                                                                                                                                                                                                                                                                                                                                                                                                                              \n",
      " unixReviewTime | 1449446400                                                                                                                                                                                                                                                                                                                                                                                                                                                                                                                                                                                                                                                                                                                                                                                                                                                       \n",
      "-RECORD 3--------------------------------------------------------------------------------------------------------------------------------------------------------------------------------------------------------------------------------------------------------------------------------------------------------------------------------------------------------------------------------------------------------------------------------------------------------------------------------------------------------------------------------------------------------------------------------------------------------------------------------------------------------------------------------------------------------------------------------------------------------------------------------------------------------------------------------------------------------------------------\n",
      " reviewerID     | A3KUPJ396OQF78                                                                                                                                                                                                                                                                                                                                                                                                                                                                                                                                                                                                                                                                                                                                                                                                                                                   \n",
      " verified       | false                                                                                                                                                                                                                                                                                                                                                                                                                                                                                                                                                                                                                                                                                                                                                                                                                                                            \n",
      " reviewerName   | Larry Russlin                                                                                                                                                                                                                                                                                                                                                                                                                                                                                                                                                                                                                                                                                                                                                                                                                                                    \n",
      " asin           | B017O9P72A                                                                                                                                                                                                                                                                                                                                                                                                                                                                                                                                                                                                                                                                                                                                                                                                                                                       \n",
      " reviewText     | Can only control one of two bulbs from one of two echos                                                                                                                                                                                                                                                                                                                                                                                                                                                                                                                                                                                                                                                                                                                                                                                                          \n",
      " summary        | Buggy                                                                                                                                                                                                                                                                                                                                                                                                                                                                                                                                                                                                                                                                                                                                                                                                                                                            \n",
      " overall        | 2.0                                                                                                                                                                                                                                                                                                                                                                                                                                                                                                                                                                                                                                                                                                                                                                                                                                                              \n",
      " unixReviewTime | 1449273600                                                                                                                                                                                                                                                                                                                                                                                                                                                                                                                                                                                                                                                                                                                                                                                                                                                       \n",
      "-RECORD 4--------------------------------------------------------------------------------------------------------------------------------------------------------------------------------------------------------------------------------------------------------------------------------------------------------------------------------------------------------------------------------------------------------------------------------------------------------------------------------------------------------------------------------------------------------------------------------------------------------------------------------------------------------------------------------------------------------------------------------------------------------------------------------------------------------------------------------------------------------------------------\n",
      " reviewerID     | A1U1RE1ZI19E1H                                                                                                                                                                                                                                                                                                                                                                                                                                                                                                                                                                                                                                                                                                                                                                                                                                                   \n",
      " verified       | false                                                                                                                                                                                                                                                                                                                                                                                                                                                                                                                                                                                                                                                                                                                                                                                                                                                            \n",
      " reviewerName   | Rebekah                                                                                                                                                                                                                                                                                                                                                                                                                                                                                                                                                                                                                                                                                                                                                                                                                                                          \n",
      " asin           | B017O9P72A                                                                                                                                                                                                                                                                                                                                                                                                                                                                                                                                                                                                                                                                                                                                                                                                                                                       \n",
      " reviewText     | this worked great then randomly stopped. please update.                                                                                                                                                                                                                                                                                                                                                                                                                                                                                                                                                                                                                                                                                                                                                                                                          \n",
      " summary        | stopped working                                                                                                                                                                                                                                                                                                                                                                                                                                                                                                                                                                                                                                                                                                                                                                                                                                                  \n",
      " overall        | 1.0                                                                                                                                                                                                                                                                                                                                                                                                                                                                                                                                                                                                                                                                                                                                                                                                                                                              \n",
      " unixReviewTime | 1517529600                                                                                                                                                                                                                                                                                                                                                                                                                                                                                                                                                                                                                                                                                                                                                                                                                                                       \n",
      "only showing top 5 rows\n",
      "\n"
     ]
    },
    {
     "name": "stderr",
     "output_type": "stream",
     "text": [
      "2025-04-26 00:36:45,352 WARN util.Utils: Truncated the string representation of a plan since it was too large. This behavior can be adjusted by setting 'spark.debug.maxToStringFields' in SparkEnv.conf.\n",
      "[Stage 5:>                                                          (0 + 1) / 1]"
     ]
    }
   ],
   "source": [
    "df_orc_select.show(5, truncate=False, vertical=True)"
   ]
  },
  {
   "cell_type": "markdown",
   "id": "1b804f61",
   "metadata": {},
   "source": [
    "##### PREWHERE"
   ]
  },
  {
   "cell_type": "markdown",
   "id": "32271e72",
   "metadata": {},
   "source": [
    "Получаем строки, где оценки товаров больше 3"
   ]
  },
  {
   "cell_type": "code",
   "execution_count": 94,
   "id": "09414ac5",
   "metadata": {},
   "outputs": [
    {
     "name": "stdout",
     "output_type": "stream",
     "text": [
      "0.050 сек\n"
     ]
    }
   ],
   "source": [
    "start_time = time.time()\n",
    "df_overall_filtered = df_orc_select.filter(col(\"overall\") > 3)\n",
    "df_result = df_overall_filtered.select(\"reviewerName\", \"reviewerID\", \"asin\")\n",
    "\n",
    "end_time = time.time()\n",
    "print(f\"{end_time - start_time:.3f} сек\")"
   ]
  },
  {
   "cell_type": "code",
   "execution_count": 95,
   "id": "e8383de9",
   "metadata": {},
   "outputs": [
    {
     "data": {
      "text/html": [
       "<div>\n",
       "<style scoped>\n",
       "    .dataframe tbody tr th:only-of-type {\n",
       "        vertical-align: middle;\n",
       "    }\n",
       "\n",
       "    .dataframe tbody tr th {\n",
       "        vertical-align: top;\n",
       "    }\n",
       "\n",
       "    .dataframe thead th {\n",
       "        text-align: right;\n",
       "    }\n",
       "</style>\n",
       "<table border=\"1\" class=\"dataframe\">\n",
       "  <thead>\n",
       "    <tr style=\"text-align: right;\">\n",
       "      <th></th>\n",
       "      <th>reviewerName</th>\n",
       "      <th>reviewerID</th>\n",
       "      <th>asin</th>\n",
       "    </tr>\n",
       "  </thead>\n",
       "  <tbody>\n",
       "    <tr>\n",
       "      <th>0</th>\n",
       "      <td>Greg</td>\n",
       "      <td>A27ZJ1NCBFP1HZ</td>\n",
       "      <td>B017O9P72A</td>\n",
       "    </tr>\n",
       "    <tr>\n",
       "      <th>1</th>\n",
       "      <td>Nello</td>\n",
       "      <td>A3TXR8GLKS19RE</td>\n",
       "      <td>B017O9P72A</td>\n",
       "    </tr>\n",
       "    <tr>\n",
       "      <th>2</th>\n",
       "      <td>Amazon Customer</td>\n",
       "      <td>A3KWZMO1A9TO3Z</td>\n",
       "      <td>B017O9P72A</td>\n",
       "    </tr>\n",
       "    <tr>\n",
       "      <th>3</th>\n",
       "      <td>Artyhow</td>\n",
       "      <td>A1QBG1TTQZGJNM</td>\n",
       "      <td>B017O9P72A</td>\n",
       "    </tr>\n",
       "    <tr>\n",
       "      <th>4</th>\n",
       "      <td>jarhead</td>\n",
       "      <td>A2LNJJWW2TLL00</td>\n",
       "      <td>B017O9P72A</td>\n",
       "    </tr>\n",
       "  </tbody>\n",
       "</table>\n",
       "</div>"
      ],
      "text/plain": [
       "      reviewerName      reviewerID        asin\n",
       "0             Greg  A27ZJ1NCBFP1HZ  B017O9P72A\n",
       "1            Nello  A3TXR8GLKS19RE  B017O9P72A\n",
       "2  Amazon Customer  A3KWZMO1A9TO3Z  B017O9P72A\n",
       "3          Artyhow  A1QBG1TTQZGJNM  B017O9P72A\n",
       "4          jarhead  A2LNJJWW2TLL00  B017O9P72A"
      ]
     },
     "execution_count": 95,
     "metadata": {},
     "output_type": "execute_result"
    }
   ],
   "source": [
    "df_result.limit(5).toPandas()"
   ]
  },
  {
   "cell_type": "markdown",
   "id": "1391285a",
   "metadata": {},
   "source": [
    "##### INNER JOIN"
   ]
  },
  {
   "cell_type": "markdown",
   "id": "b7a8b884",
   "metadata": {},
   "source": [
    "Получаем дату и год из `unixReviewTime`, чтобы можно было быстро определить месяц, к примеру"
   ]
  },
  {
   "cell_type": "code",
   "execution_count": 101,
   "id": "d3c76caa",
   "metadata": {},
   "outputs": [
    {
     "name": "stdout",
     "output_type": "stream",
     "text": [
      "0.034 сек\n"
     ]
    }
   ],
   "source": [
    "start_time = time.time()\n",
    "\n",
    "df_dates = df_orc_select.select(\n",
    "    \"reviewerID\", \"asin\",\n",
    "    from_unixtime(\"unixReviewTime\").alias(\"review_date\")\n",
    ").withColumn(\"review_year\", year(\"review_date\"))\n",
    "\n",
    "df_result_dates = df_orc_select.join(df_dates, on=[\"reviewerID\", \"asin\"], how=\"inner\")\n",
    "\n",
    "end_time = time.time()\n",
    "print(f\"{end_time - start_time:.3f} сек\")"
   ]
  },
  {
   "cell_type": "code",
   "execution_count": 102,
   "id": "aec91017",
   "metadata": {},
   "outputs": [
    {
     "data": {
      "text/html": [
       "<div>\n",
       "<style scoped>\n",
       "    .dataframe tbody tr th:only-of-type {\n",
       "        vertical-align: middle;\n",
       "    }\n",
       "\n",
       "    .dataframe tbody tr th {\n",
       "        vertical-align: top;\n",
       "    }\n",
       "\n",
       "    .dataframe thead th {\n",
       "        text-align: right;\n",
       "    }\n",
       "</style>\n",
       "<table border=\"1\" class=\"dataframe\">\n",
       "  <thead>\n",
       "    <tr style=\"text-align: right;\">\n",
       "      <th></th>\n",
       "      <th>reviewerID</th>\n",
       "      <th>asin</th>\n",
       "      <th>verified</th>\n",
       "      <th>reviewerName</th>\n",
       "      <th>reviewText</th>\n",
       "      <th>summary</th>\n",
       "      <th>overall</th>\n",
       "      <th>unixReviewTime</th>\n",
       "      <th>review_date</th>\n",
       "      <th>review_year</th>\n",
       "    </tr>\n",
       "  </thead>\n",
       "  <tbody>\n",
       "    <tr>\n",
       "      <th>0</th>\n",
       "      <td>A27BTSGLXK2C5K</td>\n",
       "      <td>B017O9P72A</td>\n",
       "      <td>False</td>\n",
       "      <td>Jacob M. Wessler</td>\n",
       "      <td>Alexa is not able to control my lights. If I a...</td>\n",
       "      <td>VERY Buggy, doesn't work.</td>\n",
       "      <td>1.0</td>\n",
       "      <td>1449792000</td>\n",
       "      <td>2015-12-11 00:00:00</td>\n",
       "      <td>2015</td>\n",
       "    </tr>\n",
       "    <tr>\n",
       "      <th>1</th>\n",
       "      <td>A27ZJ1NCBFP1HZ</td>\n",
       "      <td>B017O9P72A</td>\n",
       "      <td>False</td>\n",
       "      <td>Greg</td>\n",
       "      <td>Alexa works great for me so far, but I'm also ...</td>\n",
       "      <td>So Far So Good</td>\n",
       "      <td>4.0</td>\n",
       "      <td>1449532800</td>\n",
       "      <td>2015-12-08 00:00:00</td>\n",
       "      <td>2015</td>\n",
       "    </tr>\n",
       "    <tr>\n",
       "      <th>2</th>\n",
       "      <td>ACCQIOZMFN4UK</td>\n",
       "      <td>B017O9P72A</td>\n",
       "      <td>False</td>\n",
       "      <td>Da-Gr8-1</td>\n",
       "      <td>Weak!!\\n\\nAlexa doesn't even recognize the nam...</td>\n",
       "      <td>Time waster</td>\n",
       "      <td>1.0</td>\n",
       "      <td>1449446400</td>\n",
       "      <td>2015-12-07 00:00:00</td>\n",
       "      <td>2015</td>\n",
       "    </tr>\n",
       "    <tr>\n",
       "      <th>3</th>\n",
       "      <td>A3KUPJ396OQF78</td>\n",
       "      <td>B017O9P72A</td>\n",
       "      <td>False</td>\n",
       "      <td>Larry Russlin</td>\n",
       "      <td>Can only control one of two bulbs from one of ...</td>\n",
       "      <td>Buggy</td>\n",
       "      <td>2.0</td>\n",
       "      <td>1449273600</td>\n",
       "      <td>2015-12-05 00:00:00</td>\n",
       "      <td>2015</td>\n",
       "    </tr>\n",
       "    <tr>\n",
       "      <th>4</th>\n",
       "      <td>A1U1RE1ZI19E1H</td>\n",
       "      <td>B017O9P72A</td>\n",
       "      <td>False</td>\n",
       "      <td>Rebekah</td>\n",
       "      <td>this worked great then randomly stopped. pleas...</td>\n",
       "      <td>stopped working</td>\n",
       "      <td>1.0</td>\n",
       "      <td>1517529600</td>\n",
       "      <td>2018-02-02 00:00:00</td>\n",
       "      <td>2018</td>\n",
       "    </tr>\n",
       "  </tbody>\n",
       "</table>\n",
       "</div>"
      ],
      "text/plain": [
       "       reviewerID        asin  verified      reviewerName  \\\n",
       "0  A27BTSGLXK2C5K  B017O9P72A     False  Jacob M. Wessler   \n",
       "1  A27ZJ1NCBFP1HZ  B017O9P72A     False              Greg   \n",
       "2   ACCQIOZMFN4UK  B017O9P72A     False          Da-Gr8-1   \n",
       "3  A3KUPJ396OQF78  B017O9P72A     False     Larry Russlin   \n",
       "4  A1U1RE1ZI19E1H  B017O9P72A     False           Rebekah   \n",
       "\n",
       "                                          reviewText  \\\n",
       "0  Alexa is not able to control my lights. If I a...   \n",
       "1  Alexa works great for me so far, but I'm also ...   \n",
       "2  Weak!!\\n\\nAlexa doesn't even recognize the nam...   \n",
       "3  Can only control one of two bulbs from one of ...   \n",
       "4  this worked great then randomly stopped. pleas...   \n",
       "\n",
       "                     summary  overall  unixReviewTime          review_date  \\\n",
       "0  VERY Buggy, doesn't work.      1.0      1449792000  2015-12-11 00:00:00   \n",
       "1             So Far So Good      4.0      1449532800  2015-12-08 00:00:00   \n",
       "2                Time waster      1.0      1449446400  2015-12-07 00:00:00   \n",
       "3                      Buggy      2.0      1449273600  2015-12-05 00:00:00   \n",
       "4            stopped working      1.0      1517529600  2018-02-02 00:00:00   \n",
       "\n",
       "   review_year  \n",
       "0         2015  \n",
       "1         2015  \n",
       "2         2015  \n",
       "3         2015  \n",
       "4         2018  "
      ]
     },
     "execution_count": 102,
     "metadata": {},
     "output_type": "execute_result"
    }
   ],
   "source": [
    "df_result_dates.limit(5).toPandas()"
   ]
  },
  {
   "cell_type": "markdown",
   "id": "9336352a",
   "metadata": {},
   "source": [
    "##### FULL OUTER JOIN"
   ]
  },
  {
   "cell_type": "markdown",
   "id": "18916c8d",
   "metadata": {},
   "source": [
    "Представим, что данные из разных источников и мы проверяем какие отстутствуют по `reviewerID`"
   ]
  },
  {
   "cell_type": "code",
   "execution_count": 85,
   "id": "001ab3a8",
   "metadata": {},
   "outputs": [],
   "source": [
    "df_left = df_orc_select.alias(\"left\")\n",
    "df_right = df_orc_select.alias(\"right\")"
   ]
  },
  {
   "cell_type": "code",
   "execution_count": 88,
   "id": "87e9ec92",
   "metadata": {},
   "outputs": [
    {
     "name": "stdout",
     "output_type": "stream",
     "text": [
      "0.025 сек\n"
     ]
    }
   ],
   "source": [
    "start_time = time.time()\n",
    "\n",
    "df_result = df_left.join(df_right, df_left.asin == df_right.asin, how=\"outer\")\n",
    "df_null_reviewerID = df_result.filter(col(\"left.reviewerID\").isNull() | col(\"right.reviewerID\").isNull())\n",
    "\n",
    "end_time = time.time()\n",
    "print(f\"{end_time - start_time:.3f} сек\")"
   ]
  },
  {
   "cell_type": "code",
   "execution_count": 89,
   "id": "5803af33",
   "metadata": {},
   "outputs": [
    {
     "name": "stderr",
     "output_type": "stream",
     "text": [
      "                                                                                \r"
     ]
    },
    {
     "data": {
      "text/html": [
       "<div>\n",
       "<style scoped>\n",
       "    .dataframe tbody tr th:only-of-type {\n",
       "        vertical-align: middle;\n",
       "    }\n",
       "\n",
       "    .dataframe tbody tr th {\n",
       "        vertical-align: top;\n",
       "    }\n",
       "\n",
       "    .dataframe thead th {\n",
       "        text-align: right;\n",
       "    }\n",
       "</style>\n",
       "<table border=\"1\" class=\"dataframe\">\n",
       "  <thead>\n",
       "    <tr style=\"text-align: right;\">\n",
       "      <th></th>\n",
       "      <th>reviewerID</th>\n",
       "      <th>verified</th>\n",
       "      <th>reviewerName</th>\n",
       "      <th>asin</th>\n",
       "      <th>reviewText</th>\n",
       "      <th>summary</th>\n",
       "      <th>overall</th>\n",
       "      <th>unixReviewTime</th>\n",
       "      <th>reviewerID</th>\n",
       "      <th>verified</th>\n",
       "      <th>reviewerName</th>\n",
       "      <th>asin</th>\n",
       "      <th>reviewText</th>\n",
       "      <th>summary</th>\n",
       "      <th>overall</th>\n",
       "      <th>unixReviewTime</th>\n",
       "    </tr>\n",
       "  </thead>\n",
       "  <tbody>\n",
       "  </tbody>\n",
       "</table>\n",
       "</div>"
      ],
      "text/plain": [
       "Empty DataFrame\n",
       "Columns: [reviewerID, verified, reviewerName, asin, reviewText, summary, overall, unixReviewTime, reviewerID, verified, reviewerName, asin, reviewText, summary, overall, unixReviewTime]\n",
       "Index: []"
      ]
     },
     "execution_count": 89,
     "metadata": {},
     "output_type": "execute_result"
    }
   ],
   "source": [
    "df_null_reviewerID.limit(5).toPandas()"
   ]
  },
  {
   "cell_type": "markdown",
   "id": "4b243de2",
   "metadata": {},
   "source": [
    "##### OVER QUALIFY"
   ]
  },
  {
   "cell_type": "markdown",
   "id": "bf2100eb",
   "metadata": {},
   "source": [
    "Получаем по одной строке с самым ранним временем ревью для каждого товара (asin) "
   ]
  },
  {
   "cell_type": "code",
   "execution_count": 98,
   "id": "0bdb4c4e",
   "metadata": {},
   "outputs": [
    {
     "name": "stdout",
     "output_type": "stream",
     "text": [
      "0.059 сек\n"
     ]
    }
   ],
   "source": [
    "start_time = time.time()\n",
    "\n",
    "window_spec = Window.partitionBy(\"asin\").orderBy(\"unixReviewTime\")\n",
    "df_result = df_orc_select.withColumn(\"row_num\", row_number().over(window_spec))\n",
    "df_filtered = df_result.filter(col(\"row_num\") == 1)\n",
    "\n",
    "end_time = time.time()\n",
    "print(f\"{end_time - start_time:.3f} сек\")"
   ]
  },
  {
   "cell_type": "code",
   "execution_count": 99,
   "id": "d201e911",
   "metadata": {},
   "outputs": [
    {
     "data": {
      "text/html": [
       "<div>\n",
       "<style scoped>\n",
       "    .dataframe tbody tr th:only-of-type {\n",
       "        vertical-align: middle;\n",
       "    }\n",
       "\n",
       "    .dataframe tbody tr th {\n",
       "        vertical-align: top;\n",
       "    }\n",
       "\n",
       "    .dataframe thead th {\n",
       "        text-align: right;\n",
       "    }\n",
       "</style>\n",
       "<table border=\"1\" class=\"dataframe\">\n",
       "  <thead>\n",
       "    <tr style=\"text-align: right;\">\n",
       "      <th></th>\n",
       "      <th>reviewerID</th>\n",
       "      <th>verified</th>\n",
       "      <th>reviewerName</th>\n",
       "      <th>asin</th>\n",
       "      <th>reviewText</th>\n",
       "      <th>summary</th>\n",
       "      <th>overall</th>\n",
       "      <th>unixReviewTime</th>\n",
       "      <th>row_num</th>\n",
       "    </tr>\n",
       "  </thead>\n",
       "  <tbody>\n",
       "    <tr>\n",
       "      <th>0</th>\n",
       "      <td>A9HQWY045DWAW</td>\n",
       "      <td>True</td>\n",
       "      <td>Margaret A. Westlake</td>\n",
       "      <td>B0007OC0A2</td>\n",
       "      <td>I had the worst trouble with blisters.  No amo...</td>\n",
       "      <td>No more blisters and no more athletes foot</td>\n",
       "      <td>5.0</td>\n",
       "      <td>1165276800</td>\n",
       "      <td>1</td>\n",
       "    </tr>\n",
       "    <tr>\n",
       "      <th>1</th>\n",
       "      <td>AWD98R100TI8F</td>\n",
       "      <td>False</td>\n",
       "      <td>Robert Marotti</td>\n",
       "      <td>B000FEF1V4</td>\n",
       "      <td>I have owned two previous \"accu-vac\" models.  ...</td>\n",
       "      <td>A Vacuum Trimmer that actually VACUUMS!!</td>\n",
       "      <td>4.0</td>\n",
       "      <td>1160524800</td>\n",
       "      <td>1</td>\n",
       "    </tr>\n",
       "    <tr>\n",
       "      <th>2</th>\n",
       "      <td>A133FDJ7XNO7XJ</td>\n",
       "      <td>False</td>\n",
       "      <td>Cindy M. Mason</td>\n",
       "      <td>B000IQU2QS</td>\n",
       "      <td>Pre de Provence Green Tea Soap was recommended...</td>\n",
       "      <td>VERRY VERY GOOD</td>\n",
       "      <td>5.0</td>\n",
       "      <td>1200787200</td>\n",
       "      <td>1</td>\n",
       "    </tr>\n",
       "    <tr>\n",
       "      <th>3</th>\n",
       "      <td>A1DUQAIPY2G044</td>\n",
       "      <td>True</td>\n",
       "      <td>Justin</td>\n",
       "      <td>B001EHLSQS</td>\n",
       "      <td>I love this case and the car charger that has ...</td>\n",
       "      <td>Awesome case and charger</td>\n",
       "      <td>5.0</td>\n",
       "      <td>1260662400</td>\n",
       "      <td>1</td>\n",
       "    </tr>\n",
       "    <tr>\n",
       "      <th>4</th>\n",
       "      <td>ASNF7IPPLHON8</td>\n",
       "      <td>True</td>\n",
       "      <td>Savannah Dean</td>\n",
       "      <td>B0032RNS8E</td>\n",
       "      <td>I emailed the seller two week ago and was told...</td>\n",
       "      <td>I never received this item or a response from ...</td>\n",
       "      <td>1.0</td>\n",
       "      <td>1266192000</td>\n",
       "      <td>1</td>\n",
       "    </tr>\n",
       "  </tbody>\n",
       "</table>\n",
       "</div>"
      ],
      "text/plain": [
       "       reviewerID  verified          reviewerName        asin  \\\n",
       "0   A9HQWY045DWAW      True  Margaret A. Westlake  B0007OC0A2   \n",
       "1   AWD98R100TI8F     False        Robert Marotti  B000FEF1V4   \n",
       "2  A133FDJ7XNO7XJ     False        Cindy M. Mason  B000IQU2QS   \n",
       "3  A1DUQAIPY2G044      True                Justin  B001EHLSQS   \n",
       "4   ASNF7IPPLHON8      True         Savannah Dean  B0032RNS8E   \n",
       "\n",
       "                                          reviewText  \\\n",
       "0  I had the worst trouble with blisters.  No amo...   \n",
       "1  I have owned two previous \"accu-vac\" models.  ...   \n",
       "2  Pre de Provence Green Tea Soap was recommended...   \n",
       "3  I love this case and the car charger that has ...   \n",
       "4  I emailed the seller two week ago and was told...   \n",
       "\n",
       "                                             summary  overall  unixReviewTime  \\\n",
       "0         No more blisters and no more athletes foot      5.0      1165276800   \n",
       "1           A Vacuum Trimmer that actually VACUUMS!!      4.0      1160524800   \n",
       "2                                    VERRY VERY GOOD      5.0      1200787200   \n",
       "3                           Awesome case and charger      5.0      1260662400   \n",
       "4  I never received this item or a response from ...      1.0      1266192000   \n",
       "\n",
       "   row_num  \n",
       "0        1  \n",
       "1        1  \n",
       "2        1  \n",
       "3        1  \n",
       "4        1  "
      ]
     },
     "execution_count": 99,
     "metadata": {},
     "output_type": "execute_result"
    }
   ],
   "source": [
    "df_filtered.limit(5).toPandas()"
   ]
  },
  {
   "cell_type": "markdown",
   "id": "843715cb",
   "metadata": {},
   "source": [
    "##### GROUP BY HAVING"
   ]
  },
  {
   "cell_type": "markdown",
   "id": "0ceefb8f",
   "metadata": {},
   "source": [
    "Получим среднюю оценку за каждый год"
   ]
  },
  {
   "cell_type": "code",
   "execution_count": 106,
   "id": "e02ad638",
   "metadata": {},
   "outputs": [
    {
     "name": "stdout",
     "output_type": "stream",
     "text": [
      "0.015 сек\n"
     ]
    }
   ],
   "source": [
    "start_time = time.time()\n",
    "\n",
    "df_grouped = df_result_dates.groupBy(\"review_year\").agg(\n",
    "    F.avg(\"overall\").alias(\"avg_overall\")\n",
    ")\n",
    "\n",
    "end_time = time.time()\n",
    "print(f\"{end_time - start_time:.3f} сек\")"
   ]
  },
  {
   "cell_type": "code",
   "execution_count": 108,
   "id": "2bab1f18",
   "metadata": {},
   "outputs": [
    {
     "data": {
      "text/html": [
       "<div>\n",
       "<style scoped>\n",
       "    .dataframe tbody tr th:only-of-type {\n",
       "        vertical-align: middle;\n",
       "    }\n",
       "\n",
       "    .dataframe tbody tr th {\n",
       "        vertical-align: top;\n",
       "    }\n",
       "\n",
       "    .dataframe thead th {\n",
       "        text-align: right;\n",
       "    }\n",
       "</style>\n",
       "<table border=\"1\" class=\"dataframe\">\n",
       "  <thead>\n",
       "    <tr style=\"text-align: right;\">\n",
       "      <th></th>\n",
       "      <th>review_year</th>\n",
       "      <th>avg_overall</th>\n",
       "    </tr>\n",
       "  </thead>\n",
       "  <tbody>\n",
       "    <tr>\n",
       "      <th>0</th>\n",
       "      <td>2003</td>\n",
       "      <td>4.260870</td>\n",
       "    </tr>\n",
       "    <tr>\n",
       "      <th>4</th>\n",
       "      <td>2006</td>\n",
       "      <td>3.903585</td>\n",
       "    </tr>\n",
       "    <tr>\n",
       "      <th>1</th>\n",
       "      <td>2007</td>\n",
       "      <td>4.067637</td>\n",
       "    </tr>\n",
       "    <tr>\n",
       "      <th>3</th>\n",
       "      <td>2015</td>\n",
       "      <td>4.221330</td>\n",
       "    </tr>\n",
       "    <tr>\n",
       "      <th>2</th>\n",
       "      <td>2018</td>\n",
       "      <td>3.701237</td>\n",
       "    </tr>\n",
       "  </tbody>\n",
       "</table>\n",
       "</div>"
      ],
      "text/plain": [
       "   review_year  avg_overall\n",
       "0         2003     4.260870\n",
       "4         2006     3.903585\n",
       "1         2007     4.067637\n",
       "3         2015     4.221330\n",
       "2         2018     3.701237"
      ]
     },
     "execution_count": 108,
     "metadata": {},
     "output_type": "execute_result"
    }
   ],
   "source": [
    "df_grouped.limit(5).toPandas().sort_values('review_year')"
   ]
  },
  {
   "cell_type": "markdown",
   "id": "d710e96d",
   "metadata": {},
   "source": [
    "##### GROUPING SETS"
   ]
  },
  {
   "cell_type": "markdown",
   "id": "3d759368",
   "metadata": {},
   "source": [
    "Получим агрегацию по множеству полей"
   ]
  },
  {
   "cell_type": "code",
   "execution_count": 126,
   "id": "9d45f370",
   "metadata": {},
   "outputs": [
    {
     "name": "stdout",
     "output_type": "stream",
     "text": [
      "0.113 сек\n"
     ]
    }
   ],
   "source": [
    "start_time = time.time()\n",
    "\n",
    "df_asin_grouped = df_orc_select.groupBy(\"asin\").agg(\n",
    "    F.avg(\"overall\").alias(\"avg_overall\")\n",
    ").withColumn(\"reviewerID\", F.lit(None))\n",
    "\n",
    "df_reviewer_grouped = df_orc_select.groupBy(\"reviewerID\").agg(\n",
    "    F.avg(\"overall\").alias(\"avg_overall\")\n",
    ").withColumn(\"asin\", F.lit(None))\n",
    "\n",
    "df_asin_reviewer_grouped = df_orc_select.groupBy(\"asin\", \"reviewerID\").agg(\n",
    "    F.avg(\"overall\").alias(\"avg_overall\")\n",
    ")\n",
    "\n",
    "df_grouping_sets = df_asin_grouped.union(df_reviewer_grouped).union(df_asin_reviewer_grouped)\n",
    "\n",
    "end_time = time.time()\n",
    "print(f\"{end_time - start_time:.3f} сек\")"
   ]
  },
  {
   "cell_type": "code",
   "execution_count": 127,
   "id": "409eec59",
   "metadata": {},
   "outputs": [
    {
     "data": {
      "text/html": [
       "<div>\n",
       "<style scoped>\n",
       "    .dataframe tbody tr th:only-of-type {\n",
       "        vertical-align: middle;\n",
       "    }\n",
       "\n",
       "    .dataframe tbody tr th {\n",
       "        vertical-align: top;\n",
       "    }\n",
       "\n",
       "    .dataframe thead th {\n",
       "        text-align: right;\n",
       "    }\n",
       "</style>\n",
       "<table border=\"1\" class=\"dataframe\">\n",
       "  <thead>\n",
       "    <tr style=\"text-align: right;\">\n",
       "      <th></th>\n",
       "      <th>asin</th>\n",
       "      <th>avg_overall</th>\n",
       "      <th>reviewerID</th>\n",
       "    </tr>\n",
       "  </thead>\n",
       "  <tbody>\n",
       "    <tr>\n",
       "      <th>0</th>\n",
       "      <td>B01ELVUYCW</td>\n",
       "      <td>2.9607843137254903</td>\n",
       "      <td>None</td>\n",
       "    </tr>\n",
       "    <tr>\n",
       "      <th>1</th>\n",
       "      <td>B01G84HZKY</td>\n",
       "      <td>3.0</td>\n",
       "      <td>None</td>\n",
       "    </tr>\n",
       "    <tr>\n",
       "      <th>2</th>\n",
       "      <td>B01EWMV8XY</td>\n",
       "      <td>2.0</td>\n",
       "      <td>None</td>\n",
       "    </tr>\n",
       "    <tr>\n",
       "      <th>3</th>\n",
       "      <td>B01HBWUHVG</td>\n",
       "      <td>1.5</td>\n",
       "      <td>None</td>\n",
       "    </tr>\n",
       "    <tr>\n",
       "      <th>4</th>\n",
       "      <td>B003YUMRYK</td>\n",
       "      <td>4.375</td>\n",
       "      <td>None</td>\n",
       "    </tr>\n",
       "  </tbody>\n",
       "</table>\n",
       "</div>"
      ],
      "text/plain": [
       "         asin         avg_overall reviewerID\n",
       "0  B01ELVUYCW  2.9607843137254903       None\n",
       "1  B01G84HZKY                 3.0       None\n",
       "2  B01EWMV8XY                 2.0       None\n",
       "3  B01HBWUHVG                 1.5       None\n",
       "4  B003YUMRYK               4.375       None"
      ]
     },
     "execution_count": 127,
     "metadata": {},
     "output_type": "execute_result"
    }
   ],
   "source": [
    "df_grouping_sets.limit(5).toPandas()"
   ]
  },
  {
   "cell_type": "markdown",
   "id": "3d280868",
   "metadata": {},
   "source": [
    "##### EXCEPT"
   ]
  },
  {
   "cell_type": "markdown",
   "id": "f93c07fb",
   "metadata": {},
   "source": [
    "Просто хотим все строки, где оценка не 5, а про фильтрацию забыли"
   ]
  },
  {
   "cell_type": "code",
   "execution_count": 128,
   "id": "5b454608",
   "metadata": {},
   "outputs": [
    {
     "name": "stdout",
     "output_type": "stream",
     "text": [
      "0.049 сек\n"
     ]
    }
   ],
   "source": [
    "start_time = time.time()\n",
    "\n",
    "df_orc_select_2 = df_orc_select.filter(col(\"overall\") == 5.0) # здесь не считается\n",
    "df_result = df_orc_select.exceptAll(df_orc_select_2)\n",
    "\n",
    "end_time = time.time()\n",
    "print(f\"{end_time - start_time:.3f} сек\")"
   ]
  },
  {
   "cell_type": "code",
   "execution_count": 129,
   "id": "d1143c37",
   "metadata": {},
   "outputs": [
    {
     "name": "stderr",
     "output_type": "stream",
     "text": [
      "                                                                                \r"
     ]
    },
    {
     "data": {
      "text/html": [
       "<div>\n",
       "<style scoped>\n",
       "    .dataframe tbody tr th:only-of-type {\n",
       "        vertical-align: middle;\n",
       "    }\n",
       "\n",
       "    .dataframe tbody tr th {\n",
       "        vertical-align: top;\n",
       "    }\n",
       "\n",
       "    .dataframe thead th {\n",
       "        text-align: right;\n",
       "    }\n",
       "</style>\n",
       "<table border=\"1\" class=\"dataframe\">\n",
       "  <thead>\n",
       "    <tr style=\"text-align: right;\">\n",
       "      <th></th>\n",
       "      <th>reviewerID</th>\n",
       "      <th>verified</th>\n",
       "      <th>reviewerName</th>\n",
       "      <th>asin</th>\n",
       "      <th>reviewText</th>\n",
       "      <th>summary</th>\n",
       "      <th>overall</th>\n",
       "      <th>unixReviewTime</th>\n",
       "    </tr>\n",
       "  </thead>\n",
       "  <tbody>\n",
       "    <tr>\n",
       "      <th>0</th>\n",
       "      <td>A1X68G8AGFFEGC</td>\n",
       "      <td>False</td>\n",
       "      <td>R. Maday</td>\n",
       "      <td>B017OBE2NI</td>\n",
       "      <td>Well, that was a disappointment. Created the a...</td>\n",
       "      <td>Disappointed</td>\n",
       "      <td>1.0</td>\n",
       "      <td>1482537600</td>\n",
       "    </tr>\n",
       "    <tr>\n",
       "      <th>1</th>\n",
       "      <td>A254VNC9HM5AQN</td>\n",
       "      <td>False</td>\n",
       "      <td>Ryan Houseman</td>\n",
       "      <td>B017OBYNZU</td>\n",
       "      <td>Needs to ask more questions. Answers are usual...</td>\n",
       "      <td>Almost there...</td>\n",
       "      <td>2.0</td>\n",
       "      <td>1449360000</td>\n",
       "    </tr>\n",
       "    <tr>\n",
       "      <th>2</th>\n",
       "      <td>A1TY81GW9CXZ4I</td>\n",
       "      <td>False</td>\n",
       "      <td>Renee</td>\n",
       "      <td>B017OBSCOS</td>\n",
       "      <td>She couldn't understand half of the words I said.</td>\n",
       "      <td>Sucks</td>\n",
       "      <td>1.0</td>\n",
       "      <td>1513036800</td>\n",
       "    </tr>\n",
       "    <tr>\n",
       "      <th>3</th>\n",
       "      <td>AML6X1TV7J2E3</td>\n",
       "      <td>False</td>\n",
       "      <td>Valerie T.</td>\n",
       "      <td>B017OBWZU0</td>\n",
       "      <td>This app malfunctions every 30seconds... Waist...</td>\n",
       "      <td>Terrible app</td>\n",
       "      <td>1.0</td>\n",
       "      <td>1453161600</td>\n",
       "    </tr>\n",
       "    <tr>\n",
       "      <th>4</th>\n",
       "      <td>A3ITH03ZCKIXD</td>\n",
       "      <td>False</td>\n",
       "      <td>D. Mehrten</td>\n",
       "      <td>B017OBSCOS</td>\n",
       "      <td>Her vocabulary is SO limited. She failed to re...</td>\n",
       "      <td>Back to school, girl!</td>\n",
       "      <td>3.0</td>\n",
       "      <td>1483660800</td>\n",
       "    </tr>\n",
       "  </tbody>\n",
       "</table>\n",
       "</div>"
      ],
      "text/plain": [
       "       reviewerID  verified   reviewerName        asin  \\\n",
       "0  A1X68G8AGFFEGC     False       R. Maday  B017OBE2NI   \n",
       "1  A254VNC9HM5AQN     False  Ryan Houseman  B017OBYNZU   \n",
       "2  A1TY81GW9CXZ4I     False          Renee  B017OBSCOS   \n",
       "3   AML6X1TV7J2E3     False     Valerie T.  B017OBWZU0   \n",
       "4   A3ITH03ZCKIXD     False     D. Mehrten  B017OBSCOS   \n",
       "\n",
       "                                          reviewText                summary  \\\n",
       "0  Well, that was a disappointment. Created the a...           Disappointed   \n",
       "1  Needs to ask more questions. Answers are usual...        Almost there...   \n",
       "2  She couldn't understand half of the words I said.                  Sucks   \n",
       "3  This app malfunctions every 30seconds... Waist...           Terrible app   \n",
       "4  Her vocabulary is SO limited. She failed to re...  Back to school, girl!   \n",
       "\n",
       "   overall  unixReviewTime  \n",
       "0      1.0      1482537600  \n",
       "1      2.0      1449360000  \n",
       "2      1.0      1513036800  \n",
       "3      1.0      1453161600  \n",
       "4      3.0      1483660800  "
      ]
     },
     "execution_count": 129,
     "metadata": {},
     "output_type": "execute_result"
    }
   ],
   "source": [
    "df_result.limit(5).toPandas()"
   ]
  }
 ],
 "metadata": {
  "kernelspec": {
   "display_name": "Python 3 (ipykernel)",
   "language": "python",
   "name": "python3"
  },
  "language_info": {
   "codemirror_mode": {
    "name": "ipython",
    "version": 3
   },
   "file_extension": ".py",
   "mimetype": "text/x-python",
   "name": "python",
   "nbconvert_exporter": "python",
   "pygments_lexer": "ipython3",
   "version": "3.7.7"
  }
 },
 "nbformat": 4,
 "nbformat_minor": 5
}
