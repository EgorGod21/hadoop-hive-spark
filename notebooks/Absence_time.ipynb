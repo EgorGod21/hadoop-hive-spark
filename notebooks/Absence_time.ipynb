{
 "cells": [
  {
   "cell_type": "code",
   "execution_count": 11,
   "id": "dfc5341f",
   "metadata": {},
   "outputs": [
    {
     "name": "stdout",
     "output_type": "stream",
     "text": [
      "Requirement already satisfied: faker in /myenv/lib/python3.7/site-packages (18.13.0)\r\n",
      "Requirement already satisfied: tqdm in /myenv/lib/python3.7/site-packages (4.67.1)\r\n",
      "Requirement already satisfied: python-dateutil>=2.4 in /myenv/lib/python3.7/site-packages (from faker) (2.9.0.post0)\r\n",
      "Requirement already satisfied: typing-extensions>=3.10.0.1 in /myenv/lib/python3.7/site-packages (from faker) (4.7.1)\r\n",
      "Requirement already satisfied: six>=1.5 in /myenv/lib/python3.7/site-packages (from python-dateutil>=2.4->faker) (1.17.0)\r\n"
     ]
    }
   ],
   "source": [
    "!pip install faker tqdm"
   ]
  },
  {
   "cell_type": "code",
   "execution_count": 71,
   "id": "88d1e8b1",
   "metadata": {},
   "outputs": [],
   "source": [
    "import math\n",
    "\n",
    "import pyspark\n",
    "from pyspark.sql import SparkSession\n",
    "\n",
    "from pyspark.sql.functions import col, lag, unix_timestamp, log, exp, count\n",
    "from pyspark.sql.window import Window\n",
    "\n",
    "import random\n",
    "import pandas as pd\n",
    "from faker import Faker\n",
    "from datetime import datetime, timedelta\n",
    "from tqdm import tqdm"
   ]
  },
  {
   "cell_type": "code",
   "execution_count": null,
   "id": "d7d5379e",
   "metadata": {},
   "outputs": [
    {
     "name": "stderr",
     "output_type": "stream",
     "text": [
      "100%|███████████████████████████████████████████████████████████████████████████████████████████████████████████████████████████████| 99999/99999 [03:38<00:00, 456.80it/s]\n"
     ]
    }
   ],
   "source": [
    "fake = Faker()\n",
    "\n",
    "device_types = [\"desktop\", \"mobile\", \"tablet\"]\n",
    "\n",
    "action_types = [\n",
    "    \"click\",\n",
    "    \"scroll\",\n",
    "    \"view_page\",\n",
    "    \"add_to_cart\",\n",
    "    \"remove_from_cart\",\n",
    "    \"share\",\n",
    "    \"like\",\n",
    "    \"comment\",\n",
    "]\n",
    "\n",
    "def generate_session(user_id, session_id):\n",
    "    session_start = fake.date_time_this_year()\n",
    "    num_actions = random.randint(2, 10)\n",
    "\n",
    "    current_time = session_start\n",
    "    actions = []\n",
    "\n",
    "    for _ in range(num_actions):\n",
    "        action_time = current_time\n",
    "        duration_seconds = random.randint(5, 600)\n",
    "        action = random.choice(action_types)\n",
    "        page_views = random.randint(1, 30)\n",
    "        device = random.choice(device_types)\n",
    "        location = fake.city()\n",
    "\n",
    "        actions.append({\n",
    "            \"User_ID\": user_id,\n",
    "            \"Session_ID\": session_id,\n",
    "            \"Start_Time\": action_time.strftime(\"%Y-%m-%d %H:%M:%S\"),\n",
    "            \"End_Time\": (action_time + timedelta(seconds=duration_seconds)).strftime(\"%Y-%m-%d %H:%M:%S\"),\n",
    "            \"Duration_seconds\": duration_seconds,\n",
    "            \"Action\": action,\n",
    "            \"Page_Views\": page_views,\n",
    "            \"Device_Type\": device,\n",
    "            \"Location\": location\n",
    "        })\n",
    "\n",
    "        pause = random.randint(1, 40000)\n",
    "        current_time = action_time + timedelta(seconds=pause)\n",
    "\n",
    "    return actions\n",
    "\n",
    "sessions = []\n",
    "for user_id in tqdm(range(1, 100_000)):\n",
    "    num_sessions = random.randint(1, 5)\n",
    "    for session_id in range(1, num_sessions + 1):\n",
    "        session_data = generate_session(user_id, session_id)\n",
    "        sessions.extend(session_data)\n",
    "\n",
    "df_sessions = pd.DataFrame(sessions)"
   ]
  },
  {
   "cell_type": "code",
   "execution_count": 43,
   "id": "cd6dc8ac",
   "metadata": {},
   "outputs": [],
   "source": [
    "df_sessions.to_csv('/data/user_sessions.csv', index=False)"
   ]
  },
  {
   "cell_type": "code",
   "execution_count": 44,
   "id": "fb03c413",
   "metadata": {},
   "outputs": [],
   "source": [
    "spark = SparkSession.builder \\\n",
    "    .master('spark://master:7077') \\\n",
    "    .appName('PySpark') \\\n",
    "    .getOrCreate()"
   ]
  },
  {
   "cell_type": "code",
   "execution_count": 45,
   "id": "6d0b84a9",
   "metadata": {},
   "outputs": [],
   "source": [
    "df_spark = spark.read.option(\"header\", \"true\").csv(\"file:///data/user_sessions.csv\")"
   ]
  },
  {
   "cell_type": "code",
   "execution_count": 46,
   "id": "a4f7daf2",
   "metadata": {},
   "outputs": [
    {
     "name": "stdout",
     "output_type": "stream",
     "text": [
      "root\n",
      " |-- User_ID: string (nullable = true)\n",
      " |-- Session_ID: string (nullable = true)\n",
      " |-- Start_Time: string (nullable = true)\n",
      " |-- End_Time: string (nullable = true)\n",
      " |-- Duration_seconds: string (nullable = true)\n",
      " |-- Action: string (nullable = true)\n",
      " |-- Page_Views: string (nullable = true)\n",
      " |-- Device_Type: string (nullable = true)\n",
      " |-- Location: string (nullable = true)\n",
      "\n"
     ]
    }
   ],
   "source": [
    "df_spark.printSchema()"
   ]
  },
  {
   "cell_type": "code",
   "execution_count": 47,
   "id": "58c6a6c4",
   "metadata": {},
   "outputs": [
    {
     "data": {
      "text/html": [
       "<div>\n",
       "<style scoped>\n",
       "    .dataframe tbody tr th:only-of-type {\n",
       "        vertical-align: middle;\n",
       "    }\n",
       "\n",
       "    .dataframe tbody tr th {\n",
       "        vertical-align: top;\n",
       "    }\n",
       "\n",
       "    .dataframe thead th {\n",
       "        text-align: right;\n",
       "    }\n",
       "</style>\n",
       "<table border=\"1\" class=\"dataframe\">\n",
       "  <thead>\n",
       "    <tr style=\"text-align: right;\">\n",
       "      <th></th>\n",
       "      <th>User_ID</th>\n",
       "      <th>Session_ID</th>\n",
       "      <th>Start_Time</th>\n",
       "      <th>End_Time</th>\n",
       "      <th>Duration_seconds</th>\n",
       "      <th>Action</th>\n",
       "      <th>Page_Views</th>\n",
       "      <th>Device_Type</th>\n",
       "      <th>Location</th>\n",
       "    </tr>\n",
       "  </thead>\n",
       "  <tbody>\n",
       "    <tr>\n",
       "      <th>0</th>\n",
       "      <td>1</td>\n",
       "      <td>1</td>\n",
       "      <td>2025-02-21 03:58:25</td>\n",
       "      <td>2025-02-21 04:05:48</td>\n",
       "      <td>443</td>\n",
       "      <td>comment</td>\n",
       "      <td>30</td>\n",
       "      <td>tablet</td>\n",
       "      <td>New Jessica</td>\n",
       "    </tr>\n",
       "    <tr>\n",
       "      <th>1</th>\n",
       "      <td>1</td>\n",
       "      <td>1</td>\n",
       "      <td>2025-02-21 05:33:13</td>\n",
       "      <td>2025-02-21 05:38:36</td>\n",
       "      <td>323</td>\n",
       "      <td>comment</td>\n",
       "      <td>6</td>\n",
       "      <td>tablet</td>\n",
       "      <td>North Stacey</td>\n",
       "    </tr>\n",
       "    <tr>\n",
       "      <th>2</th>\n",
       "      <td>1</td>\n",
       "      <td>1</td>\n",
       "      <td>2025-02-21 06:06:25</td>\n",
       "      <td>2025-02-21 06:06:38</td>\n",
       "      <td>13</td>\n",
       "      <td>view_page</td>\n",
       "      <td>28</td>\n",
       "      <td>desktop</td>\n",
       "      <td>East Tabithatown</td>\n",
       "    </tr>\n",
       "    <tr>\n",
       "      <th>3</th>\n",
       "      <td>1</td>\n",
       "      <td>1</td>\n",
       "      <td>2025-02-21 13:43:34</td>\n",
       "      <td>2025-02-21 13:51:42</td>\n",
       "      <td>488</td>\n",
       "      <td>add_to_cart</td>\n",
       "      <td>4</td>\n",
       "      <td>desktop</td>\n",
       "      <td>Sandybury</td>\n",
       "    </tr>\n",
       "    <tr>\n",
       "      <th>4</th>\n",
       "      <td>1</td>\n",
       "      <td>1</td>\n",
       "      <td>2025-02-22 00:03:36</td>\n",
       "      <td>2025-02-22 00:04:27</td>\n",
       "      <td>51</td>\n",
       "      <td>like</td>\n",
       "      <td>17</td>\n",
       "      <td>desktop</td>\n",
       "      <td>East Brittany</td>\n",
       "    </tr>\n",
       "  </tbody>\n",
       "</table>\n",
       "</div>"
      ],
      "text/plain": [
       "  User_ID Session_ID           Start_Time             End_Time  \\\n",
       "0       1          1  2025-02-21 03:58:25  2025-02-21 04:05:48   \n",
       "1       1          1  2025-02-21 05:33:13  2025-02-21 05:38:36   \n",
       "2       1          1  2025-02-21 06:06:25  2025-02-21 06:06:38   \n",
       "3       1          1  2025-02-21 13:43:34  2025-02-21 13:51:42   \n",
       "4       1          1  2025-02-22 00:03:36  2025-02-22 00:04:27   \n",
       "\n",
       "  Duration_seconds       Action Page_Views Device_Type          Location  \n",
       "0              443      comment         30      tablet       New Jessica  \n",
       "1              323      comment          6      tablet      North Stacey  \n",
       "2               13    view_page         28     desktop  East Tabithatown  \n",
       "3              488  add_to_cart          4     desktop         Sandybury  \n",
       "4               51         like         17     desktop     East Brittany  "
      ]
     },
     "execution_count": 47,
     "metadata": {},
     "output_type": "execute_result"
    }
   ],
   "source": [
    "df_spark.limit(5).toPandas()"
   ]
  },
  {
   "cell_type": "code",
   "execution_count": 50,
   "id": "746a4c08",
   "metadata": {},
   "outputs": [],
   "source": [
    "df = df_spark.withColumn(\"Start_Time\", col(\"Start_Time\").cast(\"timestamp\").cast(\"long\")) \\\n",
    "             .withColumn(\"End_Time\", col(\"End_Time\").cast(\"timestamp\").cast(\"long\"))"
   ]
  },
  {
   "cell_type": "code",
   "execution_count": 51,
   "id": "1dfea2e3",
   "metadata": {},
   "outputs": [
    {
     "data": {
      "text/html": [
       "<div>\n",
       "<style scoped>\n",
       "    .dataframe tbody tr th:only-of-type {\n",
       "        vertical-align: middle;\n",
       "    }\n",
       "\n",
       "    .dataframe tbody tr th {\n",
       "        vertical-align: top;\n",
       "    }\n",
       "\n",
       "    .dataframe thead th {\n",
       "        text-align: right;\n",
       "    }\n",
       "</style>\n",
       "<table border=\"1\" class=\"dataframe\">\n",
       "  <thead>\n",
       "    <tr style=\"text-align: right;\">\n",
       "      <th></th>\n",
       "      <th>User_ID</th>\n",
       "      <th>Session_ID</th>\n",
       "      <th>Start_Time</th>\n",
       "      <th>End_Time</th>\n",
       "      <th>Duration_seconds</th>\n",
       "      <th>Action</th>\n",
       "      <th>Page_Views</th>\n",
       "      <th>Device_Type</th>\n",
       "      <th>Location</th>\n",
       "    </tr>\n",
       "  </thead>\n",
       "  <tbody>\n",
       "    <tr>\n",
       "      <th>0</th>\n",
       "      <td>1</td>\n",
       "      <td>1</td>\n",
       "      <td>1740110305</td>\n",
       "      <td>1740110748</td>\n",
       "      <td>443</td>\n",
       "      <td>comment</td>\n",
       "      <td>30</td>\n",
       "      <td>tablet</td>\n",
       "      <td>New Jessica</td>\n",
       "    </tr>\n",
       "    <tr>\n",
       "      <th>1</th>\n",
       "      <td>1</td>\n",
       "      <td>1</td>\n",
       "      <td>1740115993</td>\n",
       "      <td>1740116316</td>\n",
       "      <td>323</td>\n",
       "      <td>comment</td>\n",
       "      <td>6</td>\n",
       "      <td>tablet</td>\n",
       "      <td>North Stacey</td>\n",
       "    </tr>\n",
       "    <tr>\n",
       "      <th>2</th>\n",
       "      <td>1</td>\n",
       "      <td>1</td>\n",
       "      <td>1740117985</td>\n",
       "      <td>1740117998</td>\n",
       "      <td>13</td>\n",
       "      <td>view_page</td>\n",
       "      <td>28</td>\n",
       "      <td>desktop</td>\n",
       "      <td>East Tabithatown</td>\n",
       "    </tr>\n",
       "    <tr>\n",
       "      <th>3</th>\n",
       "      <td>1</td>\n",
       "      <td>1</td>\n",
       "      <td>1740145414</td>\n",
       "      <td>1740145902</td>\n",
       "      <td>488</td>\n",
       "      <td>add_to_cart</td>\n",
       "      <td>4</td>\n",
       "      <td>desktop</td>\n",
       "      <td>Sandybury</td>\n",
       "    </tr>\n",
       "    <tr>\n",
       "      <th>4</th>\n",
       "      <td>1</td>\n",
       "      <td>1</td>\n",
       "      <td>1740182616</td>\n",
       "      <td>1740182667</td>\n",
       "      <td>51</td>\n",
       "      <td>like</td>\n",
       "      <td>17</td>\n",
       "      <td>desktop</td>\n",
       "      <td>East Brittany</td>\n",
       "    </tr>\n",
       "  </tbody>\n",
       "</table>\n",
       "</div>"
      ],
      "text/plain": [
       "  User_ID Session_ID  Start_Time    End_Time Duration_seconds       Action  \\\n",
       "0       1          1  1740110305  1740110748              443      comment   \n",
       "1       1          1  1740115993  1740116316              323      comment   \n",
       "2       1          1  1740117985  1740117998               13    view_page   \n",
       "3       1          1  1740145414  1740145902              488  add_to_cart   \n",
       "4       1          1  1740182616  1740182667               51         like   \n",
       "\n",
       "  Page_Views Device_Type          Location  \n",
       "0         30      tablet       New Jessica  \n",
       "1          6      tablet      North Stacey  \n",
       "2         28     desktop  East Tabithatown  \n",
       "3          4     desktop         Sandybury  \n",
       "4         17     desktop     East Brittany  "
      ]
     },
     "execution_count": 51,
     "metadata": {},
     "output_type": "execute_result"
    }
   ],
   "source": [
    "df.limit(5).toPandas()"
   ]
  },
  {
   "cell_type": "code",
   "execution_count": 57,
   "id": "ff0269b2",
   "metadata": {},
   "outputs": [
    {
     "name": "stderr",
     "output_type": "stream",
     "text": [
      "                                                                                \r"
     ]
    }
   ],
   "source": [
    "rdd = df.orderBy(\"User_ID\", \"Start_Time\").rdd.map(\n",
    "    lambda row: (row[\"User_ID\"], (row[\"Start_Time\"], row[\"End_Time\"]))\n",
    ")\n",
    "\n",
    "rdd_grouped = rdd.groupByKey().mapValues(list)"
   ]
  },
  {
   "cell_type": "code",
   "execution_count": null,
   "id": "c0adb4db",
   "metadata": {},
   "outputs": [],
   "source": [
    "def mapper(user_sessions):\n",
    "    sessions = sorted(user_sessions, key=lambda x: x[0])\n",
    "\n",
    "    if not sessions:\n",
    "        return []\n",
    "\n",
    "    ses_bounds = []\n",
    "    cur_ses_start = sessions[0][0]\n",
    "    cur_ses_end = sessions[0][1]\n",
    "\n",
    "    for i in range(1, len(sessions)):\n",
    "        start_time, end_time = sessions[i]\n",
    "        prev_end_time = sessions[i-1][1]\n",
    "\n",
    "        if start_time - prev_end_time > 1800:\n",
    "            ses_bounds.append((cur_ses_start, cur_ses_end))\n",
    "            cur_ses_start = start_time\n",
    "            cur_ses_end = end_time\n",
    "        else:\n",
    "            cur_ses_end = end_time\n",
    "\n",
    "    ses_bounds.append((cur_ses_start, cur_ses_end))\n",
    "\n",
    "    gaps = []\n",
    "    for i in range(len(ses_bounds) - 1):\n",
    "        gap = ses_bounds[i+1][0] - ses_bounds[i][1]\n",
    "        if gap > 0:\n",
    "            gaps.append(gap)\n",
    "\n",
    "    return gaps\n",
    "\n",
    "gaps = rdd_grouped.flatMap(lambda x: mapper(x[1]))"
   ]
  },
  {
   "cell_type": "code",
   "execution_count": 70,
   "id": "d301830a",
   "metadata": {},
   "outputs": [
    {
     "name": "stderr",
     "output_type": "stream",
     "text": [
      "[Stage 56:==========================================>          (162 + 24) / 200]"
     ]
    },
    {
     "name": "stdout",
     "output_type": "stream",
     "text": [
      "27777.203943467666 сек\n"
     ]
    },
    {
     "name": "stderr",
     "output_type": "stream",
     "text": [
      "\r\n",
      "[Stage 56:=====================================================>(198 + 2) / 200]\r\n",
      "                                                                                \r"
     ]
    }
   ],
   "source": [
    "log_sum = gaps.map(lambda x: math.log(x)).reduce(lambda x, y: x + y)\n",
    "count = gaps.count()\n",
    "geometric_mean = math.exp(log_sum / count)\n",
    "print(f\"{geometric_mean} сек\")"
   ]
  }
 ],
 "metadata": {
  "kernelspec": {
   "display_name": "Python 3 (ipykernel)",
   "language": "python",
   "name": "python3"
  },
  "language_info": {
   "codemirror_mode": {
    "name": "ipython",
    "version": 3
   },
   "file_extension": ".py",
   "mimetype": "text/x-python",
   "name": "python",
   "nbconvert_exporter": "python",
   "pygments_lexer": "ipython3",
   "version": "3.7.7"
  }
 },
 "nbformat": 4,
 "nbformat_minor": 5
}
